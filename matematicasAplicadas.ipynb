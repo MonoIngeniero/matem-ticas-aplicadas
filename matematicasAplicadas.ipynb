{
  "nbformat": 4,
  "nbformat_minor": 0,
  "metadata": {
    "colab": {
      "provenance": [],
      "authorship_tag": "ABX9TyP/psUTzyYlAo/GOheiY0RU",
      "include_colab_link": true
    },
    "kernelspec": {
      "name": "python3",
      "display_name": "Python 3"
    },
    "language_info": {
      "name": "python"
    }
  },
  "cells": [
    {
      "cell_type": "markdown",
      "metadata": {
        "id": "view-in-github",
        "colab_type": "text"
      },
      "source": [
        "<a href=\"https://colab.research.google.com/github/MonoIngeniero/matem-ticas-aplicadas/blob/main/matematicasAplicadas.ipynb\" target=\"_parent\"><img src=\"https://colab.research.google.com/assets/colab-badge.svg\" alt=\"Open In Colab\"/></a>"
      ]
    },
    {
      "cell_type": "markdown",
      "source": [
        "<font color = \"#0f5f7a \" size =\"20px\" >Taller #1</font>"
      ],
      "metadata": {
        "id": "W79po9XFXVsx"
      }
    },
    {
      "cell_type": "markdown",
      "source": [
        "#Ejercicio 1."
      ],
      "metadata": {
        "id": "XSqgRGdLWnXr"
      }
    },
    {
      "cell_type": "markdown",
      "source": [
        "\n",
        "Área lateral de de un cilindro:\n",
        "\n",
        "$A=2\\pi r g$\n",
        "\n",
        "$r=\\frac{A}{2\\pi g}$\n",
        "\n",
        "Volumen del cono:\n",
        "\n",
        "$V=\\frac{A_B\\cdot h}{3}$\n",
        "\n",
        "$3\\cdot V= A_B\\cdot h$\n",
        "\n",
        "$\\frac{3 \\cdot V}{A_B} = h$\n",
        "\n",
        "Volumen de la esfera:\n",
        "\n",
        "$V=\\frac{4}{3} \\cdot \\pi \\cdot r^3$\n",
        "\n",
        "$\\frac{V\\cdot 3}{4\\pi} = r^3$\n",
        "\n",
        "$\\sqrt[3]{\\frac{V\\cdot 3}{4\\pi}} = r$\n",
        "\n",
        "Área del trapecio:\n",
        "\n",
        "$A=\\frac{B+b}{2} \\cdot h$\n",
        "\n",
        "$\\frac{A\\cdot 2}{A+b} = h$\n",
        "\n",
        "Intensidad eléctrica:\n",
        "\n",
        "$I=\\frac{q}{t}$\n",
        "\n",
        "$t = \\frac{q}{I}$\n",
        "\n",
        "ley de Ohm:\n",
        "\n",
        " $I= \\frac{V}{R}$\n",
        "\n",
        " $R = \\frac{V}{I}$\n",
        "\n",
        " Energia eléctrica:\n",
        "\n",
        " $E = \\frac{V^2}{R}\\cdot t$\n",
        "\n",
        " $t = \\frac{E \\cdot R}{V^2}$\n",
        "\n",
        " Resistencias en paralelo:\n",
        "\n",
        " $\\frac{1}{R}=\\frac{1}{R_1}+\\frac{1}{R_2}$\n",
        "\n",
        " $R= \\frac{R_1 R_2} {R_1 + R_2}$\n",
        "\n",
        "Ecuación gases perfectos\n",
        "\n",
        " $\\frac{P_0 V_0}{T_0}=\\frac{P_f V_f}{T_f}$\n",
        "\n",
        " $P_f=\\frac{P_0 V_0 T_f}{T_0 V_f}$\n",
        "\n",
        " Intensidad eléctrica\n",
        "\n",
        " $I=\\frac{V_A - V_B}{R}$\n",
        "\n",
        " $V_b=V-I\\cdot R$\n",
        "\n"
      ],
      "metadata": {
        "id": "KwgiRQBHLa_y"
      }
    },
    {
      "cell_type": "markdown",
      "source": [
        "#Ejercicio 2"
      ],
      "metadata": {
        "id": "vva2jsPDWhcl"
      }
    },
    {
      "cell_type": "code",
      "source": [
        "a = (3*((- 5)+10+(- 5))-2*(-2)+(- 4)+10)**2\n",
        "print(a)"
      ],
      "metadata": {
        "colab": {
          "base_uri": "https://localhost:8080/"
        },
        "id": "9LG5Z403RBFI",
        "outputId": "fccf3043-56e0-40a4-e85d-de81806e6cd7"
      },
      "execution_count": null,
      "outputs": [
        {
          "output_type": "stream",
          "name": "stdout",
          "text": [
            "0.65\n"
          ]
        }
      ]
    },
    {
      "cell_type": "code",
      "source": [
        "b = (45 + (3*(2+8)-8/4)+10-83)\n",
        "print(b)"
      ],
      "metadata": {
        "id": "Aj2MftAhW02T"
      },
      "execution_count": null,
      "outputs": []
    },
    {
      "cell_type": "code",
      "source": [
        "c = ((-4+7)*2-10)*(-4+7+3)\n",
        "print(c)"
      ],
      "metadata": {
        "id": "mt31930oW2fy"
      },
      "execution_count": null,
      "outputs": []
    },
    {
      "cell_type": "markdown",
      "source": [
        "#Ejercicio 3."
      ],
      "metadata": {
        "id": "FLfMItPjW48I"
      }
    },
    {
      "cell_type": "code",
      "source": [
        "a = 1/5 * (((1/2)**2) + (3/4)**2) + 10/25 * ((1/2)**2 + (3/4)**2) + 8/40 * ((1/2)**2 + (3/4)**2)\n",
        "print(a)"
      ],
      "metadata": {
        "id": "SxEQGSsQW7UX"
      },
      "execution_count": null,
      "outputs": []
    },
    {
      "cell_type": "code",
      "source": [
        "b = 9/4*((6/8)**-1)-(5/2)*((25/20)**-1)+(40/8)*((20/16)**-1)\n",
        "print(b)"
      ],
      "metadata": {
        "id": "Ntxq8smUW98Q"
      },
      "execution_count": null,
      "outputs": []
    },
    {
      "cell_type": "markdown",
      "source": [
        "#Ejercicio 4."
      ],
      "metadata": {
        "id": "E5FGOldKXBy5"
      }
    },
    {
      "cell_type": "markdown",
      "source": [],
      "metadata": {
        "id": "YAaQUXcQRCH3"
      }
    },
    {
      "cell_type": "code",
      "source": [
        "#ejercicio 4: Crea un programa que pida al usuario Nombre, Peso y Talla y este calcule el IMC\n",
        "\n",
        "print(\"Bienvenido al calculador de IMC\")\n",
        "name = input(\"digite su nombre: \")\n",
        "peso = float(input(\"digite su peso en kilogramos: \"))\n",
        "altura= float(input(\"digite su altura en metros: \"))\n",
        "\n",
        "IMC = peso/(altura**2)\n",
        "\n",
        "print(f\"{name} su imc es de: {IMC}\")"
      ],
      "metadata": {
        "id": "tJdhe07LLbhR"
      },
      "execution_count": null,
      "outputs": []
    },
    {
      "cell_type": "markdown",
      "source": [
        "#Ejercicio 5."
      ],
      "metadata": {
        "id": "kMLLZhf7XGW6"
      }
    },
    {
      "cell_type": "code",
      "source": [
        "#jercicio 5: Escriba un programa que pida dos números luego se imprima la suma, resta, producto y cociente\n",
        "\n",
        "print(\"Bienvenido a la calculadora\")\n",
        "num1 = float(input(\"ingrese el primer numero: \"))\n",
        "num2 = float(input(\"ingrese el segundo numero: \"))\n",
        "\n",
        "print(f\"\"\"la suma de los numeros es: {num1+ num2}\n",
        "la multiplicacion de los numeros es: {num1*num2}\n",
        "la resta de {num1} menos {num2} es: {num1-num2}\n",
        "la resta de {num2} menos {num1} es: {num2-num1}\n",
        "la division de {num1} y {num2} es: {num1/num2}\n",
        "la division de {num2} y {num1} es: {num2/num1}\"\"\")"
      ],
      "metadata": {
        "id": "ngPuCYmEKwOL"
      },
      "execution_count": null,
      "outputs": []
    },
    {
      "cell_type": "markdown",
      "source": [
        "#Ejercicio 6."
      ],
      "metadata": {
        "id": "ZbKD-gc9XOFr"
      }
    },
    {
      "cell_type": "code",
      "source": [
        "#ejercicio #6\n",
        "\n",
        "# Precios del barril de petróleo en los últimos 7 días\n",
        "precios_petroleo = [85.50, 86.00, 85.75, 86.20, 86.50, 86.80, 87.00]\n",
        "\n",
        "# Precio de un litro de Coca-Cola en pesos\n",
        "precio_coca_litro_cop = 5000\n",
        "\n",
        "# Conversión de litros a barriles\n",
        "litros_por_barril = 159\n",
        "\n",
        "# Tasa de cambio COP a USD\n",
        "tasa_cambio = 4144\n",
        "\n",
        "# Cálculo del precio promedio del barril de petróleo\n",
        "precio_promedio_petroleo = sum(precios_petroleo) / len(precios_petroleo)\n",
        "\n",
        "# Cálculo del precio de un barril de Coca-Cola en COP\n",
        "precio_barril_coca_cop = precio_coca_litro_cop * litros_por_barril\n",
        "\n",
        "# Conversión del precio del barril de Coca-Cola a USD\n",
        "precio_barril_coca_usd = precio_barril_coca_cop / tasa_cambio\n",
        "\n",
        "# Relación proporcional\n",
        "relacion = precio_barril_coca_usd / precio_promedio_petroleo\n",
        "\n",
        "print(f\"Precio promedio del barril de petróleo: ${precio_promedio_petroleo:.2f} USD\")\n",
        "print(f\"Precio de un barril de Coca-Cola: ${precio_barril_coca_usd:.2f} USD\")\n",
        "print(f\"Un barril de Coca-Cola es aproximadamente {relacion:.2f} veces más costoso que un barril de petróleo.\")"
      ],
      "metadata": {
        "colab": {
          "base_uri": "https://localhost:8080/"
        },
        "id": "2DjpioFUVyoB",
        "outputId": "5c7da95e-f853-41c5-e8c6-24a74db6c88b"
      },
      "execution_count": null,
      "outputs": [
        {
          "output_type": "stream",
          "name": "stdout",
          "text": [
            "Precio promedio del barril de petróleo: $86.25 USD\n",
            "Precio de un barril de Coca-Cola: $191.84 USD\n",
            "Un barril de Coca-Cola es aproximadamente 2.22 veces más costoso que un barril de petróleo.\n"
          ]
        }
      ]
    },
    {
      "cell_type": "code",
      "source": [],
      "metadata": {
        "id": "_eAWiVY2V24m"
      },
      "execution_count": null,
      "outputs": []
    }
  ]
}